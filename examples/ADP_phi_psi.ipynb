{
 "cells": [
  {
   "cell_type": "code",
   "execution_count": 1,
   "metadata": {},
   "outputs": [],
   "source": [
    "import sys\n",
    "sys.path.append('../')\n",
    "import torch\n",
    "import numpy as np"
   ]
  },
  {
   "cell_type": "code",
   "execution_count": 2,
   "metadata": {},
   "outputs": [],
   "source": [
    "from mdn_propagator.propagator import Propagator"
   ]
  },
  {
   "cell_type": "code",
   "execution_count": 3,
   "metadata": {},
   "outputs": [],
   "source": [
    "dihedrals_data = np.load('data/alanine-dipeptide-3x250ns-backbone-dihedrals.npz')"
   ]
  },
  {
   "cell_type": "code",
   "execution_count": 4,
   "metadata": {},
   "outputs": [
    {
     "data": {
      "text/plain": [
       "(3, (250000, 2))"
      ]
     },
     "execution_count": 4,
     "metadata": {},
     "output_type": "execute_result"
    }
   ],
   "source": [
    "phi_psi_data = [dihedrals_data['arr_0'], dihedrals_data['arr_1'], dihedrals_data['arr_2']]\n",
    "len(phi_psi_data), phi_psi_data[0].shape"
   ]
  },
  {
   "cell_type": "code",
   "execution_count": 5,
   "metadata": {},
   "outputs": [],
   "source": [
    "phi_psi_data = [torch.tensor(p).float() for p in phi_psi_data]"
   ]
  },
  {
   "cell_type": "code",
   "execution_count": 6,
   "metadata": {},
   "outputs": [],
   "source": [
    "model = Propagator(dim = phi_psi_data[0].size(1))"
   ]
  },
  {
   "cell_type": "code",
   "execution_count": null,
   "metadata": {},
   "outputs": [
    {
     "name": "stderr",
     "output_type": "stream",
     "text": [
      "/project/andrewferguson/Kirill/class_project_env/lib/python3.7/site-packages/lightning_lite/plugins/environments/slurm.py:170: PossibleUserWarning: The `srun` command is available on your system but is not used. HINT: If your intention is to run Lightning on SLURM, prepend your python command with `srun` like so: srun python /project/andrewferguson/Kirill/class_project_env/lib ...\n",
      "  category=PossibleUserWarning,\n",
      "GPU available: False, used: False\n",
      "TPU available: False, using: 0 TPU cores\n",
      "IPU available: False, using: 0 IPUs\n",
      "HPU available: False, using: 0 HPUs\n",
      "\n",
      "  | Name    | Type                  | Params\n",
      "--------------------------------------------------\n",
      "0 | mdn     | MixtureDensityNetwork | 33.0 K\n",
      "1 | _scaler | MinMaxScaler          | 0     \n",
      "--------------------------------------------------\n",
      "33.0 K    Trainable params\n",
      "0         Non-trainable params\n",
      "33.0 K    Total params\n",
      "0.132     Total estimated model params size (MB)\n",
      "/project/andrewferguson/Kirill/class_project_env/lib/python3.7/site-packages/pytorch_lightning/trainer/connectors/data_connector.py:229: PossibleUserWarning: The dataloader, train_dataloader, does not have many workers which may be a bottleneck. Consider increasing the value of the `num_workers` argument` (try 48 which is the number of cpus on this machine) in the `DataLoader` init to improve performance.\n",
      "  category=PossibleUserWarning,\n"
     ]
    },
    {
     "data": {
      "application/vnd.jupyter.widget-view+json": {
       "model_id": "eecbf3c5dd6344d5a56f0446e1af3c5a",
       "version_major": 2,
       "version_minor": 0
      },
      "text/plain": [
       "Training: 0it [00:00, ?it/s]"
      ]
     },
     "metadata": {},
     "output_type": "display_data"
    }
   ],
   "source": [
    "model.fit(phi_psi_data, lag = 1, max_epochs=100)"
   ]
  },
  {
   "cell_type": "code",
   "execution_count": null,
   "metadata": {},
   "outputs": [],
   "source": [
    "x = phi_psi_data[0][0][None]"
   ]
  },
  {
   "cell_type": "code",
   "execution_count": null,
   "metadata": {},
   "outputs": [],
   "source": [
    "pred_phi_psi = model.gen_synthetic_traj(x, int(np.concatenate(phi_psi_data).shape[0]))"
   ]
  },
  {
   "cell_type": "code",
   "execution_count": null,
   "metadata": {},
   "outputs": [],
   "source": [
    "import pyemma\n",
    "import matplotlib.pyplot as plt"
   ]
  },
  {
   "cell_type": "code",
   "execution_count": null,
   "metadata": {},
   "outputs": [],
   "source": [
    "fig, axes = plt.subplots(1,2, figsize=(15, 5))\n",
    "\n",
    "axes[0].scatter(np.arange(pred_phi_psi[:, 0].shape[0]), pred_phi_psi[:, 0], s=5)\n",
    "axes[0].set_title('Synthetic data', fontsize=18)\n",
    "\n",
    "axes[1].scatter(np.arange(np.concatenate(phi_psi_data)[:, 0].shape[0]), np.concatenate(phi_psi_data)[:, 0], s=5)\n",
    "axes[1].set_title('Training data', fontsize=18)\n",
    "\n",
    "for ax in axes:\n",
    "    ax.set_xlabel('step #', fontsize=18)\n",
    "    ax.set_ylabel('$\\phi$', fontsize=18)\n"
   ]
  },
  {
   "cell_type": "code",
   "execution_count": null,
   "metadata": {},
   "outputs": [],
   "source": [
    "fig, axes = plt.subplots(1,2, figsize=(15, 5))\n",
    "\n",
    "axes[0].scatter(np.arange(pred_phi_psi[:, 1].shape[0]), pred_phi_psi[:, 1], s=5)\n",
    "axes[0].set_title('Synthetic data', fontsize=18)\n",
    "\n",
    "axes[1].scatter(np.arange(np.concatenate(phi_psi_data)[:, 1].shape[0]), np.concatenate(phi_psi_data)[:, 1], s=5)\n",
    "axes[1].set_title('Training data', fontsize=18)\n",
    "\n",
    "for ax in axes:\n",
    "    ax.set_xlabel('step #', fontsize=18)\n",
    "    ax.set_ylabel('$\\psi$', fontsize=18)\n"
   ]
  },
  {
   "cell_type": "code",
   "execution_count": null,
   "metadata": {},
   "outputs": [],
   "source": [
    "fig, axes = plt.subplots(1,2, figsize=(15, 5))\n",
    "\n",
    "pyemma.plots.plot_free_energy(*pred_phi_psi.T, levels=np.linspace(0, 10, 15), ax=axes[0])\n",
    "pyemma.plots.plot_free_energy(*np.concatenate(phi_psi_data).T, levels=np.linspace(0, 10, 15), ax=axes[1])\n",
    "\n",
    "axes[0].set_title('Synthetic data', fontsize=18)\n",
    "axes[1].set_title('Training data', fontsize=18)\n",
    "\n",
    "for ax in axes:\n",
    "    ax.set_xlabel('$\\phi$', fontsize=18)\n",
    "    ax.set_ylabel('$\\psi$', fontsize=18)"
   ]
  },
  {
   "cell_type": "code",
   "execution_count": null,
   "metadata": {},
   "outputs": [],
   "source": []
  }
 ],
 "metadata": {
  "kernelspec": {
   "display_name": "Python [conda env:class_project_env]",
   "language": "python",
   "name": "conda-env-class_project_env-py"
  },
  "language_info": {
   "codemirror_mode": {
    "name": "ipython",
    "version": 3
   },
   "file_extension": ".py",
   "mimetype": "text/x-python",
   "name": "python",
   "nbconvert_exporter": "python",
   "pygments_lexer": "ipython3",
   "version": "3.7.3"
  }
 },
 "nbformat": 4,
 "nbformat_minor": 4
}
